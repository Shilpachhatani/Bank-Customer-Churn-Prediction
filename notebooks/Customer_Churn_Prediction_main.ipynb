{
 "cells": [
  {
   "cell_type": "markdown",
   "id": "a0fa142e",
   "metadata": {},
   "source": [
    "# Customer Churn Prediction\n",
    "\n",
    "**Objective**: Predict which bank customers are likely to leave using classification models.\n",
    "\n",
    "**Dataset**: Churn Modelling Dataset\n"
   ]
  },
  {
   "cell_type": "markdown",
   "id": "099a648e-ce52-4901-ba73-6e5fe13cb9c0",
   "metadata": {},
   "source": [
    "#### Import Libraries"
   ]
  },
  {
   "cell_type": "markdown",
   "id": "462c45f7-f43e-473c-89d9-d4320dcc58e2",
   "metadata": {},
   "source": [
    "#### Load Dataset"
   ]
  },
  {
   "cell_type": "code",
   "execution_count": null,
   "id": "fa351907",
   "metadata": {},
   "outputs": [],
   "source": [
    "\n",
    "df = pd.read_csv('../data/Churn_Modelling.csv')\n",
    "df.head()"
   ]
  },
  {
   "cell_type": "markdown",
   "id": "443fd70c-a84a-4886-a3eb-95f820f66e1c",
   "metadata": {},
   "source": [
    "#### Data Cleaning and Preparation"
   ]
  },
  {
   "cell_type": "code",
   "execution_count": null,
   "id": "dc30a724",
   "metadata": {},
   "outputs": [],
   "source": [
    "df.drop(['RowNumber', 'CustomerId', 'Surname'], axis=1, inplace=True)\n",
    "df = pd.get_dummies(df, columns=['Geography', 'Gender'], drop_first=True)"
   ]
  },
  {
   "cell_type": "markdown",
   "id": "dfa96e20-4c76-47ba-b3fa-4ac16f8fe412",
   "metadata": {},
   "source": [
    "#### Exploratory Data Analysis"
   ]
  },
  {
   "cell_type": "code",
   "execution_count": null,
   "id": "ebd76ba5",
   "metadata": {},
   "outputs": [],
   "source": [
    "# Step 4: Exploratory Data Analysis\n",
    "sns.countplot(x='Exited', data=df)\n",
    "plt.title(\"Churn Distribution\")\n",
    "plt.show()\n",
    "\n"
   ]
  },
  {
   "cell_type": "markdown",
   "id": "479bd115-9dcc-43d2-a20c-c04afeb17f54",
   "metadata": {},
   "source": [
    "##### The Above Graph Shows that: \n",
    "The dataset is imbalanced:\n",
    "- Majority (~80%) of customers did not churn.\n",
    "- Minority (~20%) exited."
   ]
  },
  {
   "cell_type": "code",
   "execution_count": null,
   "id": "232cf6e3-e595-4233-b171-dce85c301578",
   "metadata": {},
   "outputs": [],
   "source": [
    "sns.histplot(df['Age'], bins=30, kde=True)\n",
    "plt.title(\"Age Distribution\")\n",
    "plt.show()\n",
    "\n"
   ]
  },
  {
   "cell_type": "markdown",
   "id": "1737533a-acac-4b3e-92cf-141c08b42b50",
   "metadata": {},
   "source": [
    "##### The Above Graph Shows that:\n",
    "Most customers are between 30 and 45 years old.\n",
    "- Very few are under 20 or over 60.\n",
    "- The distribution is slightly right-skewed.\n",
    "\n",
    "Age could play a role in customer churn.\n"
   ]
  },
  {
   "cell_type": "code",
   "execution_count": null,
   "id": "1aa3d559-c970-477b-b235-5322870c25aa",
   "metadata": {},
   "outputs": [],
   "source": [
    "sns.countplot(x='Tenure', hue='Exited', data=df)\n",
    "plt.title(\"Tenure vs Churn\")\n",
    "plt.show()\n",
    "\n"
   ]
  },
  {
   "cell_type": "markdown",
   "id": "0d58e7e1-5802-47e3-bc3a-5aba64fbdccb",
   "metadata": {},
   "source": [
    "##### The Above Grapsh Shows that:\n",
    "Churn is fairly uniform across all tenure levels (0–10 years).\n",
    "- No clear trend of more or less churn at any specific tenure.\n",
    "- Tenure alone may not be a strong predictor.\n"
   ]
  },
  {
   "cell_type": "code",
   "execution_count": null,
   "id": "05ddc507-397d-4ed5-b08d-1cf0996ad539",
   "metadata": {},
   "outputs": [],
   "source": [
    "sns.boxplot(x='Exited', y='Balance', data=df)\n",
    "plt.title(\"Balance vs Churn\")\n",
    "plt.show()\n"
   ]
  },
  {
   "cell_type": "markdown",
   "id": "a2a547f0-6aed-45d5-be87-5de118aa2d5c",
   "metadata": {},
   "source": [
    "##### The Above Graph Shows that:\n",
    "Churners often have **higher account balances** than non-churners.\n",
    "- Customers with high balances may leave due to poor engagement or service.\n",
    "\n",
    "Balance appears to be an important feature for churn prediction."
   ]
  },
  {
   "cell_type": "code",
   "execution_count": null,
   "id": "0105ceaf-fc29-40d9-b69a-7a2d27f35998",
   "metadata": {},
   "outputs": [],
   "source": []
  },
  {
   "cell_type": "code",
   "execution_count": null,
   "id": "de0a3ea1-1494-4908-abdb-61f0ff88b39d",
   "metadata": {},
   "outputs": [],
   "source": []
  },
  {
   "cell_type": "markdown",
   "id": "fb56bb67-3af3-4abb-8a9e-ccdc445d523b",
   "metadata": {},
   "source": [
    "#### Model Training Using Different Models"
   ]
  },
  {
   "cell_type": "markdown",
   "id": "b263ef7a-a404-4f3d-a5ca-74812fd2a864",
   "metadata": {},
   "source": [
    "#### Model Evaluation"
   ]
  },
  {
   "cell_type": "markdown",
   "id": "abdb5c17-1b2c-4d1c-9c2c-43f5f7a40fdb",
   "metadata": {},
   "source": [
    "##### Model Accuracy Comparison:\n",
    "\n",
    "- Random Forest: 86.65% \n",
    "- Gradient Boosting: 86.75%  (slightly best)\n",
    "- Logistic Regression: 81.10%  (lowest)\n",
    "\n",
    "but we will use Random Forest because it’s simpler, faster, and more interpretable, and the accuracy difference is negligible in this case.\n",
    "\n",
    "Confusion Matrix:\n",
    "- 1550 correct non-churn predictions\n",
    "- 183 correct churn predictions\n",
    "- 210 churners missed (wrongly predicted as not churn)\n",
    "- 57 non-churners wrongly predicted as churn"
   ]
  },
  {
   "cell_type": "markdown",
   "id": "e08b4ca2-08be-4a8e-991d-83017cb43e7a",
   "metadata": {},
   "source": [
    "**ROC Curve – Random Forest**\n",
    "\n",
    "- ROC curve shows the trade-off between true positive rate and false positive rate.\n",
    "- AUC score closer to 1 means better model performance.\n",
    "\n",
    "This Random Forest model has a good AUC score, indicating strong predictive power.\n"
   ]
  },
  {
   "cell_type": "markdown",
   "id": "11fbee4f-7bf8-46d6-bbd4-65720a961ecf",
   "metadata": {},
   "source": [
    "#### Feature Imprortance"
   ]
  },
  {
   "cell_type": "code",
   "execution_count": null,
   "id": "4328e2c0",
   "metadata": {},
   "outputs": [],
   "source": [
    "# Feature Importance (Random Forest)\n",
    "importances = rf.feature_importances_\n",
    "feature_names = X.columns\n",
    "importance_df = pd.DataFrame({'Feature': feature_names, 'Importance': importances})\n",
    "importance_df = importance_df.sort_values(by='Importance', ascending=False)\n",
    "plt.figure(figsize=(10, 6))\n",
    "sns.barplot(x='Importance', y='Feature', data=importance_df)\n",
    "plt.title(\"Feature Importance (Random Forest)\")\n",
    "plt.show()"
   ]
  },
  {
   "cell_type": "markdown",
   "id": "19bea560-498f-4fb8-82a1-588e3637c352",
   "metadata": {},
   "source": [
    "##### Top features influencing churn:\n",
    "- **Age** is the most influential feature in this model.\n",
    "- Other strong predictors include EstimatedSalary, CreditScore, and Balance and Number of Products.\n",
    "- Features like Geography_Spain, Gender_Male, and HasCrCard have much lower importance\n",
    "These features are key drivers in the Random Forest model’s decisions."
   ]
  },
  {
   "cell_type": "code",
   "execution_count": null,
   "id": "0da0555c",
   "metadata": {},
   "outputs": [],
   "source": [
    "# Step 10: Save the Final Model\n",
    "joblib.dump(rf, 'model/churn_rf_model.pkl')"
   ]
  },
  {
   "cell_type": "markdown",
   "id": "8d62f144",
   "metadata": {},
   "source": [
    "##  Conclusion\n",
    "\n",
    "- The **Random Forest** model performed best for churn prediction.\n",
    "- Key churn indicators: **Age**,**EstimatedSalary**, **Balance**, **CreditScore**, **Activity**, and **Number of Products**.\n",
    "- Customers with high balance but low activity were more likely to churn.\n",
    "- This model can help the bank **target at-risk customers** for retention efforts."
   ]
  },
  {
   "cell_type": "code",
   "execution_count": null,
   "id": "17bcaa0f-09af-4cb7-85ea-6bda958a0d1e",
   "metadata": {},
   "outputs": [],
   "source": []
  },
  {
   "cell_type": "code",
   "execution_count": null,
   "id": "d0fe96f6-b72f-4a81-b720-b3e09377867b",
   "metadata": {},
   "outputs": [],
   "source": []
  },
  {
   "cell_type": "code",
   "execution_count": null,
   "id": "945d5780-060b-46aa-b360-7e3c17644146",
   "metadata": {},
   "outputs": [],
   "source": []
  },
  {
   "cell_type": "code",
   "execution_count": null,
   "id": "6781b927-cf99-43fa-bef3-41ac671bb0f6",
   "metadata": {},
   "outputs": [],
   "source": []
  },
  {
   "cell_type": "markdown",
   "id": "a9755c6e",
   "metadata": {},
   "source": [
    "✅ This notebook is production-ready and optimized for deployment."
   ]
  }
 ],
 "metadata": {
  "kernelspec": {
   "display_name": "Python 3 (ipykernel)",
   "language": "python",
   "name": "python3"
  },
  "language_info": {
   "codemirror_mode": {
    "name": "ipython",
    "version": 3
   },
   "file_extension": ".py",
   "mimetype": "text/x-python",
   "name": "python",
   "nbconvert_exporter": "python",
   "pygments_lexer": "ipython3",
   "version": "3.8.10"
  }
 },
 "nbformat": 4,
 "nbformat_minor": 5
}
